{
 "cells": [
  {
   "cell_type": "code",
   "execution_count": 1,
   "id": "cb2496a3",
   "metadata": {},
   "outputs": [
    {
     "ename": "ModuleNotFoundError",
     "evalue": "No module named 'scipy'",
     "output_type": "error",
     "traceback": [
      "\u001b[31m---------------------------------------------------------------------------\u001b[39m",
      "\u001b[31mModuleNotFoundError\u001b[39m                       Traceback (most recent call last)",
      "\u001b[36mCell\u001b[39m\u001b[36m \u001b[39m\u001b[32mIn[1]\u001b[39m\u001b[32m, line 5\u001b[39m\n\u001b[32m      3\u001b[39m \u001b[38;5;28;01mimport\u001b[39;00m\u001b[38;5;250m \u001b[39m\u001b[34;01mmatplotlib\u001b[39;00m\u001b[34;01m.\u001b[39;00m\u001b[34;01mpyplot\u001b[39;00m\u001b[38;5;250m \u001b[39m\u001b[38;5;28;01mas\u001b[39;00m\u001b[38;5;250m \u001b[39m\u001b[34;01mplt\u001b[39;00m\n\u001b[32m      4\u001b[39m \u001b[38;5;28;01mimport\u001b[39;00m\u001b[38;5;250m \u001b[39m\u001b[34;01mseaborn\u001b[39;00m\u001b[38;5;250m \u001b[39m\u001b[38;5;28;01mas\u001b[39;00m\u001b[38;5;250m \u001b[39m\u001b[34;01msns\u001b[39;00m\n\u001b[32m----> \u001b[39m\u001b[32m5\u001b[39m \u001b[38;5;28;01mfrom\u001b[39;00m\u001b[38;5;250m \u001b[39m\u001b[34;01mscipy\u001b[39;00m\u001b[34;01m.\u001b[39;00m\u001b[34;01mstats\u001b[39;00m\u001b[38;5;250m \u001b[39m\u001b[38;5;28;01mimport\u001b[39;00m zscore\n",
      "\u001b[31mModuleNotFoundError\u001b[39m: No module named 'scipy'"
     ]
    }
   ],
   "source": [
    "import pandas as pd\n",
    "import numpy as np\n",
    "import matplotlib.pyplot as plt\n",
    "import seaborn as sns\n",
    "from scipy.stats import zscore"
   ]
  },
  {
   "cell_type": "code",
   "execution_count": null,
   "id": "d7655b46",
   "metadata": {},
   "outputs": [],
   "source": [
    "# Load Benin dataset\n",
    "df = pd.read_csv('data\\benin-malanville.csv')\n",
    "\n",
    "# Display first few rows\n",
    "df.head()"
   ]
  },
  {
   "cell_type": "code",
   "execution_count": null,
   "id": "b58876ee",
   "metadata": {},
   "outputs": [],
   "source": [
    "# Summary statistics\n",
    "print(\"Summary Statistics:\")\n",
    "print(df.describe())\n",
    "\n",
    "# Missing values report\n",
    "print(\"\\nMissing Values:\")\n",
    "missing = df.isna().sum()\n",
    "print(missing)\n",
    "\n",
    "# Columns with >5% missing\n",
    "threshold = len(df) * 0.05\n",
    "print(\"\\nColumns with >5% Missing:\")\n",
    "print(missing[missing > threshold])"
   ]
  },
  {
   "cell_type": "code",
   "execution_count": null,
   "id": "8f45fe95",
   "metadata": {},
   "outputs": [],
   "source": [
    "# Compute Z-scores for key columns\n",
    "key_columns = ['GHI', 'DNI', 'DHI', 'ModA', 'ModB', 'WS', 'WSgust']\n",
    "df_zscores = df[key_columns].apply(zscore, nan_policy='omit')\n",
    "\n",
    "# Flag outliers (|Z| > 3)\n",
    "outliers = (df_zscores.abs() > 3).any(axis=1)\n",
    "print(f\"Number of rows with outliers: {outliers.sum()}\")\n",
    "\n",
    "# Impute missing values with median for key columns\n",
    "for col in key_columns:\n",
    "    df[col].fillna(df[col].median(), inplace=True)\n",
    "\n",
    "# Drop rows with missing Timestamp or critical columns\n",
    "df.dropna(subset=['Timestamp'], inplace=True)\n",
    "\n",
    "# Export cleaned DataFrame\n",
    "df.to_csv('data/benin_clean.csv', index=False)\n",
    "print(\"Cleaned data saved to data/benin_clean.csv\")"
   ]
  },
  {
   "cell_type": "code",
   "execution_count": null,
   "id": "59c4c4ca",
   "metadata": {},
   "outputs": [],
   "source": [
    "# Convert Timestamp to datetime\n",
    "df['Timestamp'] = pd.to_datetime(df['Timestamp'])\n",
    "\n",
    "# Plot GHI, DNI, DHI, Tamb over time\n",
    "plt.figure(figsize=(12, 8))\n",
    "plt.plot(df['Timestamp'], df['GHI'], label='GHI')\n",
    "plt.plot(df['Timestamp'], df['DNI'], label='DNI')\n",
    "plt.plot(df['Timestamp'], df['DHI'], label='DHI')\n",
    "plt.plot(df['Timestamp'], df['Tamb'], label='Tamb')\n",
    "plt.xlabel('Timestamp')\n",
    "plt.ylabel('Value')\n",
    "plt.title('Time Series of GHI, DNI, DHI, and Tamb')\n",
    "plt.legend()\n",
    "plt.tight_layout()\n",
    "plt.savefig('plots/ghi_dni_dhi_tamb_time_series.png')\n",
    "plt.show()"
   ]
  },
  {
   "cell_type": "code",
   "execution_count": null,
   "id": "b891be85",
   "metadata": {},
   "outputs": [],
   "source": [
    "# Group by Cleaning flag and compute average ModA, ModB\n",
    "cleaning_impact = df.groupby('Cleaning')[['ModA', 'ModB']].mean()\n",
    "print(\"Average ModA and ModB by Cleaning Flag:\")\n",
    "print(cleaning_impact)\n",
    "\n",
    "# Plot\n",
    "cleaning_impact.plot(kind='bar', title='Average ModA and ModB Pre/Post Cleaning')\n",
    "plt.ylabel('Value')\n",
    "plt.savefig('plots/cleaning_impact.png')\n",
    "plt.show()"
   ]
  },
  {
   "cell_type": "code",
   "execution_count": null,
   "id": "0cb6cbef",
   "metadata": {},
   "outputs": [],
   "source": [
    "# Correlation heatmap\n",
    "corr_columns = ['GHI', 'DNI', 'DHI', 'TModA', 'TModB']\n",
    "corr_matrix = df[corr_columns].corr()\n",
    "plt.figure(figsize=(8, 6))\n",
    "sns.heatmap(corr_matrix, annot=True, cmap='coolwarm')\n",
    "plt.title('Correlation Heatmap')\n",
    "plt.savefig('plots/correlation_heatmap.png')\n",
    "plt.show()"
   ]
  },
  {
   "cell_type": "code",
   "execution_count": null,
   "id": "a8526f62",
   "metadata": {},
   "outputs": [],
   "source": [
    "# Scatter plot: WS vs GHI\n",
    "plt.figure(figsize=(8, 6))\n",
    "plt.scatter(df['WS'], df['GHI'], alpha=0.5)\n",
    "plt.xlabel('Wind Speed (m/s)')\n",
    "plt.ylabel('GHI (W/m^2)')\n",
    "plt.title('Wind Speed vs GHI')\n",
    "plt.savefig('plots/ws_vs_ghi.png')\n",
    "plt.show()"
   ]
  },
  {
   "cell_type": "code",
   "execution_count": null,
   "id": "5589427c",
   "metadata": {},
   "outputs": [],
   "source": [
    "# Histogram for GHI\n",
    "plt.figure(figsize=(8, 6))\n",
    "plt.hist(df['GHI'], bins=30)\n",
    "plt.xlabel('GHI (W/m^2)')\n",
    "plt.ylabel('Frequency')\n",
    "plt.title('GHI Distribution')\n",
    "plt.savefig('plots/ghi_histogram.png')\n",
    "plt.show()\n",
    "\n",
    "# Wind rose (simplified bar plot for WD)\n",
    "wd_counts = df['WD'].value_counts().sort_index()\n",
    "plt.figure(figsize=(8, 6))\n",
    "plt.bar(wd_counts.index, wd_counts.values)\n",
    "plt.xlabel('Wind Direction (°N)')\n",
    "plt.ylabel('Count')\n",
    "plt.title('Wind Direction Distribution')\n",
    "plt.savefig('plots/wind_direction.png')\n",
    "plt.show()"
   ]
  },
  {
   "cell_type": "code",
   "execution_count": null,
   "id": "a768a0e7",
   "metadata": {},
   "outputs": [],
   "source": [
    "# Scatter plot: RH vs Tamb\n",
    "plt.figure(figsize=(8, 6))\n",
    "plt.scatter(df['RH'], df['Tamb'], alpha=0.5)\n",
    "plt.xlabel('Relative Humidity (%)')\n",
    "plt.ylabel('Ambient Temperature (°C)')\n",
    "plt.title('RH vs Tamb')\n",
    "plt.savefig('plots/rh_vs_tamb.png')\n",
    "plt.show()"
   ]
  },
  {
   "cell_type": "code",
   "execution_count": null,
   "id": "7e1de7ec",
   "metadata": {},
   "outputs": [],
   "source": [
    "# Bubble chart: GHI vs Tamb, bubble size = RH\n",
    "plt.figure(figsize=(10, 8))\n",
    "plt.scatter(df['Tamb'], df['GHI'], s=df['RH']*10, alpha=0.5)\n",
    "plt.xlabel('Ambient Temperature (°C)')\n",
    "plt.ylabel('GHI (W/m^2)')\n",
    "plt.title('GHI vs Tamb (Bubble Size: RH)')\n",
    "plt.savefig('plots/bubble_ghi_tamb_rughty')\n",
    "plt.show()"
   ]
  },
  {
   "cell_type": "code",
   "execution_count": null,
   "id": "b58e79c8",
   "metadata": {},
   "outputs": [],
   "source": []
  }
 ],
 "metadata": {
  "kernelspec": {
   "display_name": ".venv",
   "language": "python",
   "name": "python3"
  },
  "language_info": {
   "codemirror_mode": {
    "name": "ipython",
    "version": 3
   },
   "file_extension": ".py",
   "mimetype": "text/x-python",
   "name": "python",
   "nbconvert_exporter": "python",
   "pygments_lexer": "ipython3",
   "version": "3.13.0"
  }
 },
 "nbformat": 4,
 "nbformat_minor": 5
}
