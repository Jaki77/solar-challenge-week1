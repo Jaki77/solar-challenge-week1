{
 "cells": [
  {
   "cell_type": "code",
   "execution_count": 3,
   "id": "57e06ae5",
   "metadata": {},
   "outputs": [],
   "source": [
    "import pandas as pd\n",
    "import numpy as np\n",
    "import matplotlib.pyplot as plt\n",
    "import seaborn as sns\n",
    "from scipy.stats import zscore\n",
    "import os"
   ]
  },
  {
   "cell_type": "code",
   "execution_count": 4,
   "id": "a210aa5c",
   "metadata": {},
   "outputs": [
    {
     "name": "stdout",
     "output_type": "stream",
     "text": [
      "First few rows of the Sierra Leone dataset:\n",
      "          Timestamp  GHI  DNI  DHI  ModA  ModB  Tamb    RH   WS  WSgust  \\\n",
      "0  2021-10-30 00:01 -0.7 -0.1 -0.8   0.0   0.0  21.9  99.1  0.0     0.0   \n",
      "1  2021-10-30 00:02 -0.7 -0.1 -0.8   0.0   0.0  21.9  99.2  0.0     0.0   \n",
      "2  2021-10-30 00:03 -0.7 -0.1 -0.8   0.0   0.0  21.9  99.2  0.0     0.0   \n",
      "3  2021-10-30 00:04 -0.7  0.0 -0.8   0.0   0.0  21.9  99.3  0.0     0.0   \n",
      "4  2021-10-30 00:05 -0.7 -0.1 -0.8   0.0   0.0  21.9  99.3  0.0     0.0   \n",
      "\n",
      "   WSstdev   WD  WDstdev    BP  Cleaning  Precipitation  TModA  TModB  \\\n",
      "0      0.0  0.0      0.0  1002         0            0.0   22.3   22.6   \n",
      "1      0.0  0.0      0.0  1002         0            0.0   22.3   22.6   \n",
      "2      0.0  0.0      0.0  1002         0            0.0   22.3   22.6   \n",
      "3      0.0  0.0      0.0  1002         0            0.1   22.3   22.6   \n",
      "4      0.0  0.0      0.0  1002         0            0.0   22.3   22.6   \n",
      "\n",
      "   Comments  \n",
      "0       NaN  \n",
      "1       NaN  \n",
      "2       NaN  \n",
      "3       NaN  \n",
      "4       NaN  \n"
     ]
    }
   ],
   "source": [
    "\n",
    "# Create plots directory if it doesn't exist\n",
    "if not os.path.exists('plots'):\n",
    "    os.makedirs('plots')\n",
    "\n",
    "# Load Sierra Leone dataset\n",
    "df = pd.read_csv('data/sierraleone-bumbuna.csv')\n",
    "print(\"First few rows of the Sierra Leone dataset:\")\n",
    "print(df.head())"
   ]
  },
  {
   "cell_type": "code",
   "execution_count": 5,
   "id": "38344842",
   "metadata": {},
   "outputs": [
    {
     "name": "stdout",
     "output_type": "stream",
     "text": [
      "\n",
      "Summary Statistics:\n",
      "                 GHI            DNI            DHI           ModA  \\\n",
      "count  525600.000000  525600.000000  525600.000000  525600.000000   \n",
      "mean      201.957515     116.376337     113.720571     206.643095   \n",
      "std       298.495150     218.652659     158.946032     300.896893   \n",
      "min       -19.500000      -7.800000     -17.900000       0.000000   \n",
      "25%        -2.800000      -0.300000      -3.800000       0.000000   \n",
      "50%         0.300000      -0.100000      -0.100000       3.600000   \n",
      "75%       362.400000     107.000000     224.700000     359.500000   \n",
      "max      1499.000000     946.000000     892.000000    1507.000000   \n",
      "\n",
      "                ModB           Tamb             RH             WS  \\\n",
      "count  525600.000000  525600.000000  525600.000000  525600.000000   \n",
      "mean      198.114691      26.319394      79.448857       1.146113   \n",
      "std       288.889073       4.398605      20.520775       1.239248   \n",
      "min         0.000000      12.300000       9.900000       0.000000   \n",
      "25%         0.000000      23.100000      68.700000       0.000000   \n",
      "50%         3.400000      25.300000      85.400000       0.800000   \n",
      "75%       345.400000      29.400000      96.700000       2.000000   \n",
      "max      1473.000000      39.900000     100.000000      19.200000   \n",
      "\n",
      "              WSgust        WSstdev             WD        WDstdev  \\\n",
      "count  525600.000000  525600.000000  525600.000000  525600.000000   \n",
      "mean        1.691606       0.363823     133.044668       7.172220   \n",
      "std         1.617053       0.295000     114.284792       7.535093   \n",
      "min         0.000000       0.000000       0.000000       0.000000   \n",
      "25%         0.000000       0.000000       0.000000       0.000000   \n",
      "50%         1.600000       0.400000     161.500000       6.200000   \n",
      "75%         2.600000       0.600000     234.100000      12.000000   \n",
      "max        23.900000       4.100000     360.000000      98.400000   \n",
      "\n",
      "                  BP       Cleaning  Precipitation          TModA  \\\n",
      "count  525600.000000  525600.000000  525600.000000  525600.000000   \n",
      "mean      999.876469       0.000967       0.004806      32.504263   \n",
      "std         2.104419       0.031074       0.047556      12.434899   \n",
      "min       993.000000       0.000000       0.000000      10.700000   \n",
      "25%       999.000000       0.000000       0.000000      23.500000   \n",
      "50%      1000.000000       0.000000       0.000000      26.600000   \n",
      "75%      1001.000000       0.000000       0.000000      40.900000   \n",
      "max      1006.000000       1.000000       2.400000      72.800000   \n",
      "\n",
      "               TModB  Comments  \n",
      "count  525600.000000       0.0  \n",
      "mean       32.593091       NaN  \n",
      "std        12.009161       NaN  \n",
      "min        11.100000       NaN  \n",
      "25%        23.800000       NaN  \n",
      "50%        26.900000       NaN  \n",
      "75%        41.300000       NaN  \n",
      "max        70.400000       NaN  \n",
      "\n",
      "Missing Values:\n",
      "Timestamp             0\n",
      "GHI                   0\n",
      "DNI                   0\n",
      "DHI                   0\n",
      "ModA                  0\n",
      "ModB                  0\n",
      "Tamb                  0\n",
      "RH                    0\n",
      "WS                    0\n",
      "WSgust                0\n",
      "WSstdev               0\n",
      "WD                    0\n",
      "WDstdev               0\n",
      "BP                    0\n",
      "Cleaning              0\n",
      "Precipitation         0\n",
      "TModA                 0\n",
      "TModB                 0\n",
      "Comments         525600\n",
      "dtype: int64\n",
      "\n",
      "Columns with >5% Missing:\n",
      "Comments    525600\n",
      "dtype: int64\n"
     ]
    }
   ],
   "source": [
    "\n",
    "# Summary statistics\n",
    "print(\"\\nSummary Statistics:\")\n",
    "print(df.describe())\n",
    "\n",
    "# Missing values report\n",
    "print(\"\\nMissing Values:\")\n",
    "missing = df.isna().sum()\n",
    "print(missing)\n",
    "threshold = len(df) * 0.05\n",
    "print(\"\\nColumns with >5% Missing:\")\n",
    "print(missing[missing > threshold])"
   ]
  },
  {
   "cell_type": "code",
   "execution_count": 6,
   "id": "72008834",
   "metadata": {},
   "outputs": [
    {
     "name": "stdout",
     "output_type": "stream",
     "text": [
      "\n",
      "Number of rows with outliers: 16292\n"
     ]
    },
    {
     "name": "stderr",
     "output_type": "stream",
     "text": [
      "C:\\Users\\jakin\\AppData\\Local\\Temp\\ipykernel_12472\\2270888643.py:7: FutureWarning: A value is trying to be set on a copy of a DataFrame or Series through chained assignment using an inplace method.\n",
      "The behavior will change in pandas 3.0. This inplace method will never work because the intermediate object on which we are setting values always behaves as a copy.\n",
      "\n",
      "For example, when doing 'df[col].method(value, inplace=True)', try using 'df.method({col: value}, inplace=True)' or df[col] = df[col].method(value) instead, to perform the operation inplace on the original object.\n",
      "\n",
      "\n",
      "  df[col].fillna(df[col].median(), inplace=True)\n",
      "C:\\Users\\jakin\\AppData\\Local\\Temp\\ipykernel_12472\\2270888643.py:7: FutureWarning: A value is trying to be set on a copy of a DataFrame or Series through chained assignment using an inplace method.\n",
      "The behavior will change in pandas 3.0. This inplace method will never work because the intermediate object on which we are setting values always behaves as a copy.\n",
      "\n",
      "For example, when doing 'df[col].method(value, inplace=True)', try using 'df.method({col: value}, inplace=True)' or df[col] = df[col].method(value) instead, to perform the operation inplace on the original object.\n",
      "\n",
      "\n",
      "  df[col].fillna(df[col].median(), inplace=True)\n",
      "C:\\Users\\jakin\\AppData\\Local\\Temp\\ipykernel_12472\\2270888643.py:7: FutureWarning: A value is trying to be set on a copy of a DataFrame or Series through chained assignment using an inplace method.\n",
      "The behavior will change in pandas 3.0. This inplace method will never work because the intermediate object on which we are setting values always behaves as a copy.\n",
      "\n",
      "For example, when doing 'df[col].method(value, inplace=True)', try using 'df.method({col: value}, inplace=True)' or df[col] = df[col].method(value) instead, to perform the operation inplace on the original object.\n",
      "\n",
      "\n",
      "  df[col].fillna(df[col].median(), inplace=True)\n",
      "C:\\Users\\jakin\\AppData\\Local\\Temp\\ipykernel_12472\\2270888643.py:7: FutureWarning: A value is trying to be set on a copy of a DataFrame or Series through chained assignment using an inplace method.\n",
      "The behavior will change in pandas 3.0. This inplace method will never work because the intermediate object on which we are setting values always behaves as a copy.\n",
      "\n",
      "For example, when doing 'df[col].method(value, inplace=True)', try using 'df.method({col: value}, inplace=True)' or df[col] = df[col].method(value) instead, to perform the operation inplace on the original object.\n",
      "\n",
      "\n",
      "  df[col].fillna(df[col].median(), inplace=True)\n",
      "C:\\Users\\jakin\\AppData\\Local\\Temp\\ipykernel_12472\\2270888643.py:7: FutureWarning: A value is trying to be set on a copy of a DataFrame or Series through chained assignment using an inplace method.\n",
      "The behavior will change in pandas 3.0. This inplace method will never work because the intermediate object on which we are setting values always behaves as a copy.\n",
      "\n",
      "For example, when doing 'df[col].method(value, inplace=True)', try using 'df.method({col: value}, inplace=True)' or df[col] = df[col].method(value) instead, to perform the operation inplace on the original object.\n",
      "\n",
      "\n",
      "  df[col].fillna(df[col].median(), inplace=True)\n",
      "C:\\Users\\jakin\\AppData\\Local\\Temp\\ipykernel_12472\\2270888643.py:7: FutureWarning: A value is trying to be set on a copy of a DataFrame or Series through chained assignment using an inplace method.\n",
      "The behavior will change in pandas 3.0. This inplace method will never work because the intermediate object on which we are setting values always behaves as a copy.\n",
      "\n",
      "For example, when doing 'df[col].method(value, inplace=True)', try using 'df.method({col: value}, inplace=True)' or df[col] = df[col].method(value) instead, to perform the operation inplace on the original object.\n",
      "\n",
      "\n",
      "  df[col].fillna(df[col].median(), inplace=True)\n",
      "C:\\Users\\jakin\\AppData\\Local\\Temp\\ipykernel_12472\\2270888643.py:7: FutureWarning: A value is trying to be set on a copy of a DataFrame or Series through chained assignment using an inplace method.\n",
      "The behavior will change in pandas 3.0. This inplace method will never work because the intermediate object on which we are setting values always behaves as a copy.\n",
      "\n",
      "For example, when doing 'df[col].method(value, inplace=True)', try using 'df.method({col: value}, inplace=True)' or df[col] = df[col].method(value) instead, to perform the operation inplace on the original object.\n",
      "\n",
      "\n",
      "  df[col].fillna(df[col].median(), inplace=True)\n"
     ]
    },
    {
     "name": "stdout",
     "output_type": "stream",
     "text": [
      "Cleaned data saved to data/sierraleone_clean.csv\n"
     ]
    }
   ],
   "source": [
    "\n",
    "# Outlier detection and cleaning\n",
    "key_columns = ['GHI', 'DNI', 'DHI', 'ModA', 'ModB', 'WS', 'WSgust']\n",
    "df_zscores = df[key_columns].apply(zscore, nan_policy='omit')\n",
    "outliers = (df_zscores.abs() > 3).any(axis=1)\n",
    "print(f\"\\nNumber of rows with outliers: {outliers.sum()}\")\n",
    "for col in key_columns:\n",
    "    df[col].fillna(df[col].median(), inplace=True)\n",
    "df.dropna(subset=['Timestamp'], inplace=True)\n",
    "df.to_csv('data/sierraleone_clean.csv', index=False)\n",
    "print(\"Cleaned data saved to data/sierraleone_clean.csv\")"
   ]
  },
  {
   "cell_type": "code",
   "execution_count": 7,
   "id": "c871be83",
   "metadata": {},
   "outputs": [],
   "source": [
    "\n",
    "# Time series analysis\n",
    "df['Timestamp'] = pd.to_datetime(df['Timestamp'])\n",
    "plt.figure(figsize=(12, 8))\n",
    "plt.plot(df['Timestamp'], df['GHI'], label='GHI')\n",
    "plt.plot(df['Timestamp'], df['DNI'], label='DNI')\n",
    "plt.plot(df['Timestamp'], df['DHI'], label='DHI')\n",
    "plt.plot(df['Timestamp'], df['Tamb'], label='Tamb')\n",
    "plt.xlabel('Timestamp')\n",
    "plt.ylabel('Value')\n",
    "plt.title('Sierra Leone: Time Series of GHI, DNI, DHI, and Tamb')\n",
    "plt.legend()\n",
    "plt.tight_layout()\n",
    "plt.savefig('plots/sierraleone_ghi_dni_dhi_tamb_time_series.png')\n",
    "plt.close()"
   ]
  },
  {
   "cell_type": "code",
   "execution_count": 8,
   "id": "0fe8ce4a",
   "metadata": {},
   "outputs": [
    {
     "name": "stdout",
     "output_type": "stream",
     "text": [
      "\n",
      "Average ModA and ModB by Cleaning Flag:\n",
      "                ModA        ModB\n",
      "Cleaning                        \n",
      "0         206.578599  198.038150\n",
      "1         273.309252  277.231102\n"
     ]
    }
   ],
   "source": [
    "\n",
    "# Cleaning impact\n",
    "cleaning_impact = df.groupby('Cleaning')[['ModA', 'ModB']].mean()\n",
    "print(\"\\nAverage ModA and ModB by Cleaning Flag:\")\n",
    "print(cleaning_impact)\n",
    "cleaning_impact.plot(kind='bar', title='Sierra Leone: Average ModA and ModB Pre/Post Cleaning')\n",
    "plt.ylabel('Value')\n",
    "plt.savefig('plots/sierraleone_cleaning_impact.png')\n",
    "plt.close()"
   ]
  },
  {
   "cell_type": "code",
   "execution_count": 9,
   "id": "9b72815e",
   "metadata": {},
   "outputs": [],
   "source": [
    "\n",
    "# Correlation heatmap\n",
    "corr_columns = ['GHI', 'DNI', 'DHI', 'TModA', 'TModB']\n",
    "corr_matrix = df[corr_columns].corr()\n",
    "plt.figure(figsize=(8, 6))\n",
    "sns.heatmap(corr_matrix, annot=True, cmap='coolwarm')\n",
    "plt.title('Sierra Leone: Correlation Heatmap')\n",
    "plt.savefig('plots/sierraleone_correlation_heatmap.png')\n",
    "plt.close()"
   ]
  },
  {
   "cell_type": "code",
   "execution_count": 10,
   "id": "32789346",
   "metadata": {},
   "outputs": [],
   "source": [
    "\n",
    "# Scatter plot: WS vs GHI\n",
    "plt.figure(figsize=(8, 6))\n",
    "plt.scatter(df['WS'], df['GHI'], alpha=0.5)\n",
    "plt.xlabel('Wind Speed (m/s)')\n",
    "plt.ylabel('GHI (W/m^2)')\n",
    "plt.title('Sierra Leone: Wind Speed vs GHI')\n",
    "plt.savefig('plots/sierraleone_ws_vs_ghi.png')\n",
    "plt.close()"
   ]
  },
  {
   "cell_type": "code",
   "execution_count": 11,
   "id": "3c1c06d0",
   "metadata": {},
   "outputs": [],
   "source": [
    "\n",
    "# Wind analysis: GHI histogram\n",
    "plt.figure(figsize=(8, 6))\n",
    "plt.hist(df['GHI'], bins=30)\n",
    "plt.xlabel('GHI (W/m^2)')\n",
    "plt.ylabel('Frequency')\n",
    "plt.title('Sierra Leone: GHI Distribution')\n",
    "plt.savefig('plots/sierraleone_ghi_histogram.png')\n",
    "plt.close()\n",
    "\n",
    "# Wind direction distribution\n",
    "wd_counts = df['WD'].value_counts().sort_index()\n",
    "plt.figure(figsize=(8, 6))\n",
    "plt.bar(wd_counts.index, wd_counts.values)\n",
    "plt.xlabel('Wind Direction (°N)')\n",
    "plt.ylabel('Count')\n",
    "plt.title('Sierra Leone: Wind Direction Distribution')\n",
    "plt.savefig('plots/sierraleone_wind_direction.png')\n",
    "plt.close()"
   ]
  },
  {
   "cell_type": "code",
   "execution_count": 12,
   "id": "8cf628fc",
   "metadata": {},
   "outputs": [],
   "source": [
    "\n",
    "# Temperature analysis: RH vs Tamb\n",
    "plt.figure(figsize=(8, 6))\n",
    "plt.scatter(df['RH'], df['Tamb'], alpha=0.5)\n",
    "plt.xlabel('Relative Humidity (%)')\n",
    "plt.ylabel('Ambient Temperature (°C)')\n",
    "plt.title('Sierra Leone: RH vs Tamb')\n",
    "plt.savefig('plots/sierraleone_rh_vs_tamb.png')\n",
    "plt.close()"
   ]
  },
  {
   "cell_type": "code",
   "execution_count": 13,
   "id": "5dc8ac5a",
   "metadata": {},
   "outputs": [
    {
     "name": "stdout",
     "output_type": "stream",
     "text": [
      "Sierra Leone EDA complete. Plots saved to plots/ directory.\n"
     ]
    }
   ],
   "source": [
    "\n",
    "# Bubble chart: GHI vs Tamb, bubble size = RH\n",
    "plt.figure(figsize=(10, 8))\n",
    "plt.scatter(df['Tamb'], df['GHI'], s=df['RH']*10, alpha=0.5)\n",
    "plt.xlabel('Ambient Temperature (°C)')\n",
    "plt.ylabel('GHI (W/m^2)')\n",
    "plt.title('Sierra Leone: GHI vs Tamb (Bubble Size: RH)')\n",
    "plt.savefig('plots/sierraleone_bubble_ghi_tamb_rh.png')\n",
    "plt.close()\n",
    "\n",
    "print(\"Sierra Leone EDA complete. Plots saved to plots/ directory.\")"
   ]
  }
 ],
 "metadata": {
  "kernelspec": {
   "display_name": ".venv",
   "language": "python",
   "name": "python3"
  },
  "language_info": {
   "codemirror_mode": {
    "name": "ipython",
    "version": 3
   },
   "file_extension": ".py",
   "mimetype": "text/x-python",
   "name": "python",
   "nbconvert_exporter": "python",
   "pygments_lexer": "ipython3",
   "version": "3.13.0"
  }
 },
 "nbformat": 4,
 "nbformat_minor": 5
}
