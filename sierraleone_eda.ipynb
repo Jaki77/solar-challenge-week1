{
 "cells": [
  {
   "cell_type": "code",
   "execution_count": null,
   "id": "57e06ae5",
   "metadata": {},
   "outputs": [],
   "source": [
    "import pandas as pd\n",
    "import numpy as np\n",
    "import matplotlib.pyplot as plt\n",
    "import seaborn as sns\n",
    "from scipy.stats import zscore\n",
    "import os"
   ]
  },
  {
   "cell_type": "code",
   "execution_count": null,
   "id": "a210aa5c",
   "metadata": {},
   "outputs": [],
   "source": [
    "\n",
    "# Create plots directory if it doesn't exist\n",
    "if not os.path.exists('plots'):\n",
    "    os.makedirs('plots')\n",
    "\n",
    "# Load Sierra Leone dataset\n",
    "df = pd.read_csv('data/sierraleone-bumbuna.csv')s\n",
    "print(\"First few rows of the Sierra Leone dataset:\")\n",
    "print(df.head())"
   ]
  },
  {
   "cell_type": "code",
   "execution_count": null,
   "id": "38344842",
   "metadata": {},
   "outputs": [],
   "source": [
    "\n",
    "# Summary statistics\n",
    "print(\"\\nSummary Statistics:\")\n",
    "print(df.describe())\n",
    "\n",
    "# Missing values report\n",
    "print(\"\\nMissing Values:\")\n",
    "missing = df.isna().sum()\n",
    "print(missing)\n",
    "threshold = len(df) * 0.05\n",
    "print(\"\\nColumns with >5% Missing:\")\n",
    "print(missing[missing > threshold])"
   ]
  },
  {
   "cell_type": "code",
   "execution_count": null,
   "id": "72008834",
   "metadata": {},
   "outputs": [],
   "source": [
    "\n",
    "# Outlier detection and cleaning\n",
    "key_columns = ['GHI', 'DNI', 'DHI', 'ModA', 'ModB', 'WS', 'WSgust']\n",
    "df_zscores = df[key_columns].apply(zscore, nan_policy='omit')\n",
    "outliers = (df_zscores.abs() > 3).any(axis=1)\n",
    "print(f\"\\nNumber of rows with outliers: {outliers.sum()}\")\n",
    "for col in key_columns:\n",
    "    df[col].fillna(df[col].median(), inplace=True)\n",
    "df.dropna(subset=['Timestamp'], inplace=True)\n",
    "df.to_csv('data/sierraleone_clean.csv', index=False)\n",
    "print(\"Cleaned data saved to data/sierraleone_clean.csv\")"
   ]
  },
  {
   "cell_type": "code",
   "execution_count": null,
   "id": "c871be83",
   "metadata": {},
   "outputs": [],
   "source": [
    "\n",
    "# Time series analysis\n",
    "df['Timestamp'] = pd.to_datetime(df['Timestamp'])\n",
    "plt.figure(figsize=(12, 8))\n",
    "plt.plot(df['Timestamp'], df['GHI'], label='GHI')\n",
    "plt.plot(df['Timestamp'], df['DNI'], label='DNI')\n",
    "plt.plot(df['Timestamp'], df['DHI'], label='DHI')\n",
    "plt.plot(df['Timestamp'], df['Tamb'], label='Tamb')\n",
    "plt.xlabel('Timestamp')\n",
    "plt.ylabel('Value')\n",
    "plt.title('Sierra Leone: Time Series of GHI, DNI, DHI, and Tamb')\n",
    "plt.legend()\n",
    "plt.tight_layout()\n",
    "plt.savefig('plots/sierraleone_ghi_dni_dhi_tamb_time_series.png')\n",
    "plt.close()"
   ]
  },
  {
   "cell_type": "code",
   "execution_count": null,
   "id": "0fe8ce4a",
   "metadata": {},
   "outputs": [],
   "source": [
    "\n",
    "# Cleaning impact\n",
    "cleaning_impact = df.groupby('Cleaning')[['ModA', 'ModB']].mean()\n",
    "print(\"\\nAverage ModA and ModB by Cleaning Flag:\")\n",
    "print(cleaning_impact)\n",
    "cleaning_impact.plot(kind='bar', title='Sierra Leone: Average ModA and ModB Pre/Post Cleaning')\n",
    "plt.ylabel('Value')\n",
    "plt.savefig('plots/sierraleone_cleaning_impact.png')\n",
    "plt.close()"
   ]
  },
  {
   "cell_type": "code",
   "execution_count": null,
   "id": "9b72815e",
   "metadata": {},
   "outputs": [],
   "source": [
    "\n",
    "# Correlation heatmap\n",
    "corr_columns = ['GHI', 'DNI', 'DHI', 'TModA', 'TModB']\n",
    "corr_matrix = df[corr_columns].corr()\n",
    "plt.figure(figsize=(8, 6))\n",
    "sns.heatmap(corr_matrix, annot=True, cmap='coolwarm')\n",
    "plt.title('Sierra Leone: Correlation Heatmap')\n",
    "plt.savefig('plots/sierraleone_correlation_heatmap.png')\n",
    "plt.close()"
   ]
  },
  {
   "cell_type": "code",
   "execution_count": null,
   "id": "32789346",
   "metadata": {},
   "outputs": [],
   "source": [
    "\n",
    "# Scatter plot: WS vs GHI\n",
    "plt.figure(figsize=(8, 6))\n",
    "plt.scatter(df['WS'], df['GHI'], alpha=0.5)\n",
    "plt.xlabel('Wind Speed (m/s)')\n",
    "plt.ylabel('GHI (W/m^2)')\n",
    "plt.title('Sierra Leone: Wind Speed vs GHI')\n",
    "plt.savefig('plots/sierraleone_ws_vs_ghi.png')\n",
    "plt.close()"
   ]
  },
  {
   "cell_type": "code",
   "execution_count": null,
   "id": "3c1c06d0",
   "metadata": {},
   "outputs": [],
   "source": [
    "\n",
    "# Wind analysis: GHI histogram\n",
    "plt.figure(figsize=(8, 6))\n",
    "plt.hist(df['GHI'], bins=30)\n",
    "plt.xlabel('GHI (W/m^2)')\n",
    "plt.ylabel('Frequency')\n",
    "plt.title('Sierra Leone: GHI Distribution')\n",
    "plt.savefig('plots/sierraleone_ghi_histogram.png')\n",
    "plt.close()\n",
    "\n",
    "# Wind direction distribution\n",
    "wd_counts = df['WD'].value_counts().sort_index()\n",
    "plt.figure(figsize=(8, 6))\n",
    "plt.bar(wd_counts.index, wd_counts.values)\n",
    "plt.xlabel('Wind Direction (°N)')\n",
    "plt.ylabel('Count')\n",
    "plt.title('Sierra Leone: Wind Direction Distribution')\n",
    "plt.savefig('plots/sierraleone_wind_direction.png')\n",
    "plt.close()"
   ]
  },
  {
   "cell_type": "code",
   "execution_count": null,
   "id": "8cf628fc",
   "metadata": {},
   "outputs": [],
   "source": [
    "\n",
    "# Temperature analysis: RH vs Tamb\n",
    "plt.figure(figsize=(8, 6))\n",
    "plt.scatter(df['RH'], df['Tamb'], alpha=0.5)\n",
    "plt.xlabel('Relative Humidity (%)')\n",
    "plt.ylabel('Ambient Temperature (°C)')\n",
    "plt.title('Sierra Leone: RH vs Tamb')\n",
    "plt.savefig('plots/sierraleone_rh_vs_tamb.png')\n",
    "plt.close()"
   ]
  },
  {
   "cell_type": "code",
   "execution_count": null,
   "id": "5dc8ac5a",
   "metadata": {},
   "outputs": [],
   "source": [
    "\n",
    "# Bubble chart: GHI vs Tamb, bubble size = RH\n",
    "plt.figure(figsize=(10, 8))\n",
    "plt.scatter(df['Tamb'], df['GHI'], s=df['RH']*10, alpha=0.5)\n",
    "plt.xlabel('Ambient Temperature (°C)')\n",
    "plt.ylabel('GHI (W/m^2)')\n",
    "plt.title('Sierra Leone: GHI vs Tamb (Bubble Size: RH)')\n",
    "plt.savefig('plots/sierraleone_bubble_ghi_tamb_rh.png')\n",
    "plt.close()\n",
    "\n",
    "print(\"Sierra Leone EDA complete. Plots saved to plots/ directory.\")"
   ]
  }
 ],
 "metadata": {
  "kernelspec": {
   "display_name": ".venv",
   "language": "python",
   "name": "python3"
  },
  "language_info": {
   "name": "python",
   "version": "3.13.0"
  }
 },
 "nbformat": 4,
 "nbformat_minor": 5
}
