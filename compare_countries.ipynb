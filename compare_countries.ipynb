{
 "cells": [
  {
   "cell_type": "code",
   "execution_count": 1,
   "id": "b7cd507b",
   "metadata": {},
   "outputs": [],
   "source": [
    "import pandas as pd\n",
    "import numpy as np\n",
    "import matplotlib.pyplot as plt\n",
    "import seaborn as sns\n",
    "from scipy.stats import f_oneway\n",
    "import os"
   ]
  },
  {
   "cell_type": "code",
   "execution_count": 2,
   "id": "0b9a9a18",
   "metadata": {},
   "outputs": [],
   "source": [
    "\n",
    "# Create plots directory if it doesn't exist\n",
    "if not os.path.exists('plots'):\n",
    "    os.makedirs('plots')\n",
    "\n",
    "# Load cleaned datasets\n",
    "benin = pd.read_csv('data/benin_clean.csv')\n",
    "sierraleone = pd.read_csv('data/sierraleone_clean.csv')\n",
    "togo = pd.read_csv('data/togo_clean.csv')"
   ]
  },
  {
   "cell_type": "code",
   "execution_count": 3,
   "id": "172e7b0f",
   "metadata": {},
   "outputs": [
    {
     "name": "stdout",
     "output_type": "stream",
     "text": [
      "Combined dataset shape: (1576800, 20)\n",
      "\n",
      "Summary Statistics by Country:\n",
      "                     GHI                                   DNI              \\\n",
      "                    mean         std   min     max        mean         std   \n",
      "Country                                                                      \n",
      "Benin         240.559452  331.131327 -12.9  1413.0  167.187516  261.710501   \n",
      "Sierra Leone  201.957515  298.495150 -19.5  1499.0  116.376337  218.652659   \n",
      "Togo          230.555040  322.532347 -12.7  1424.0  151.258469  250.956962   \n",
      "\n",
      "                                  DHI              ...  Tamb               RH  \\\n",
      "              min     max        mean         std  ...   min   max       mean   \n",
      "Country                                            ...                          \n",
      "Benin        -7.8   952.3  115.358961  158.691074  ...  11.0  43.8  54.487969   \n",
      "Sierra Leone -7.8   946.0  113.720571  158.946032  ...  12.3  39.9  79.448857   \n",
      "Togo          0.0  1004.5  116.444352  156.520714  ...  14.9  41.4  55.013160   \n",
      "\n",
      "                                           WS                       \n",
      "                    std  min    max      mean       std  min   max  \n",
      "Country                                                             \n",
      "Benin         28.073069  2.1  100.0  2.121113  1.603466  0.0  19.5  \n",
      "Sierra Leone  20.520775  9.9  100.0  1.146113  1.239248  0.0  19.2  \n",
      "Togo          28.778732  3.3   99.8  2.368093  1.462668  0.0  16.1  \n",
      "\n",
      "[3 rows x 24 columns]\n",
      "Summary statistics saved to data/cross_country_summary.csv\n"
     ]
    }
   ],
   "source": [
    "\n",
    "# Add country identifier\n",
    "benin['Country'] = 'Benin'\n",
    "sierraleone['Country'] = 'Sierra Leone'\n",
    "togo['Country'] = 'Togo'\n",
    "\n",
    "# Combine datasets\n",
    "df_combined = pd.concat([benin, sierraleone, togo], ignore_index=True)\n",
    "print(\"Combined dataset shape:\", df_combined.shape)\n",
    "\n",
    "# Summary statistics by country\n",
    "key_columns = ['GHI', 'DNI', 'DHI', 'Tamb', 'RH', 'WS']\n",
    "summary_stats = df_combined.groupby('Country')[key_columns].agg(['mean', 'std', 'min', 'max'])\n",
    "print(\"\\nSummary Statistics by Country:\")\n",
    "print(summary_stats)\n",
    "\n",
    "# Save summary statistics to CSV\n",
    "summary_stats.to_csv('data/cross_country_summary.csv')\n",
    "print(\"Summary statistics saved to data/cross_country_summary.csv\")"
   ]
  },
  {
   "cell_type": "code",
   "execution_count": 4,
   "id": "2af005d9",
   "metadata": {},
   "outputs": [],
   "source": [
    "\n",
    "# Boxplots for GHI, DNI, DHI\n",
    "plt.figure(figsize=(12, 8))\n",
    "for i, col in enumerate(['GHI', 'DNI', 'DHI'], 1):\n",
    "    plt.subplot(1, 3, i)\n",
    "    sns.boxplot(x='Country', y=col, data=df_combined)\n",
    "    plt.title(f'{col} by Country')\n",
    "plt.tight_layout()\n",
    "plt.savefig('plots/boxplots_ghi_dni_dhi.png')\n",
    "plt.close()"
   ]
  },
  {
   "cell_type": "code",
   "execution_count": 5,
   "id": "3c64b198",
   "metadata": {},
   "outputs": [],
   "source": [
    "\n",
    "# Boxplot for Tamb\n",
    "plt.figure(figsize=(8, 6))\n",
    "sns.boxplot(x='Country', y='Tamb', data=df_combined)\n",
    "plt.title('Ambient Temperature by Country')\n",
    "plt.savefig('plots/boxplot_tamb.png')\n",
    "plt.close()"
   ]
  },
  {
   "cell_type": "code",
   "execution_count": 6,
   "id": "f516de47",
   "metadata": {},
   "outputs": [
    {
     "name": "stdout",
     "output_type": "stream",
     "text": [
      "\n",
      "ANOVA Results:\n",
      "GHI - F-statistic: 2090.09, p-value: 0.0000\n",
      "Significant differences in GHI across countries (p < 0.05)\n",
      "DNI - F-statistic: 5940.05, p-value: 0.0000\n",
      "Significant differences in DNI across countries (p < 0.05)\n",
      "DHI - F-statistic: 39.56, p-value: 0.0000\n",
      "Significant differences in DHI across countries (p < 0.05)\n"
     ]
    }
   ],
   "source": [
    "\n",
    "# Statistical test: ANOVA for GHI, DNI, DHI\n",
    "print(\"\\nANOVA Results:\")\n",
    "for col in ['GHI', 'DNI', 'DHI']:\n",
    "    f_stat, p_val = f_oneway(\n",
    "        benin[col], sierraleone[col], togo[col]\n",
    "    )\n",
    "    print(f\"{col} - F-statistic: {f_stat:.2f}, p-value: {p_val:.4f}\")\n",
    "    if p_val < 0.05:\n",
    "        print(f\"Significant differences in {col} across countries (p < 0.05)\")\n",
    "    else:\n",
    "        print(f\"No significant differences in {col} across countries (p >= 0.05)\")"
   ]
  },
  {
   "cell_type": "code",
   "execution_count": 7,
   "id": "9457fa74",
   "metadata": {},
   "outputs": [],
   "source": [
    "\n",
    "# Correlation analysis by country\n",
    "plt.figure(figsize=(12, 8))\n",
    "for i, country in enumerate(['Benin', 'Sierra Leone', 'Togo'], 1):\n",
    "    plt.subplot(1, 3, i)\n",
    "    corr = df_combined[df_combined['Country'] == country][key_columns].corr()\n",
    "    sns.heatmap(corr, annot=True, cmap='coolwarm', vmin=-1, vmax=1)\n",
    "    plt.title(f'{country}: Correlation Heatmap')\n",
    "plt.tight_layout()\n",
    "plt.savefig('plots/correlation_heatmaps_by_country.png')\n",
    "plt.close()"
   ]
  },
  {
   "cell_type": "code",
   "execution_count": 8,
   "id": "ac66a027",
   "metadata": {},
   "outputs": [
    {
     "name": "stderr",
     "output_type": "stream",
     "text": [
      "C:\\Users\\jakin\\AppData\\Local\\Temp\\ipykernel_10600\\3488800116.py:5: UserWarning: Creating legend with loc=\"best\" can be slow with large amounts of data.\n",
      "  plt.savefig('plots/scatter_ghi_tamb_by_country.png')\n"
     ]
    },
    {
     "name": "stdout",
     "output_type": "stream",
     "text": [
      "Cross-country comparison complete. Plots saved to plots/ directory.\n"
     ]
    }
   ],
   "source": [
    "\n",
    "# Scatter plot: GHI vs Tamb by country\n",
    "plt.figure(figsize=(10, 8))\n",
    "sns.scatterplot(x='Tamb', y='GHI', hue='Country', size='RH', data=df_combined, alpha=0.5)\n",
    "plt.title('GHI vs Tamb by Country (Bubble Size: RH)')\n",
    "plt.savefig('plots/scatter_ghi_tamb_by_country.png')\n",
    "plt.close()\n",
    "\n",
    "print(\"Cross-country comparison complete. Plots saved to plots/ directory.\")"
   ]
  }
 ],
 "metadata": {
  "kernelspec": {
   "display_name": ".venv",
   "language": "python",
   "name": "python3"
  },
  "language_info": {
   "codemirror_mode": {
    "name": "ipython",
    "version": 3
   },
   "file_extension": ".py",
   "mimetype": "text/x-python",
   "name": "python",
   "nbconvert_exporter": "python",
   "pygments_lexer": "ipython3",
   "version": "3.13.0"
  }
 },
 "nbformat": 4,
 "nbformat_minor": 5
}
