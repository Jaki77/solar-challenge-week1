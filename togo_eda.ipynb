{
 "cells": [
  {
   "cell_type": "code",
   "execution_count": 12,
   "id": "327833d1",
   "metadata": {},
   "outputs": [],
   "source": [
    "import pandas as pd\n",
    "import numpy as np\n",
    "import matplotlib.pyplot as plt\n",
    "import seaborn as sns\n",
    "from scipy.stats import zscore\n",
    "import os"
   ]
  },
  {
   "cell_type": "code",
   "execution_count": 13,
   "id": "2b183bd8",
   "metadata": {},
   "outputs": [
    {
     "name": "stdout",
     "output_type": "stream",
     "text": [
      "First few rows of the Togo dataset:\n",
      "          Timestamp  GHI  DNI  DHI  ModA  ModB  Tamb    RH   WS  WSgust  \\\n",
      "0  2021-10-25 00:01 -1.3  0.0  0.0   0.0   0.0  24.8  94.5  0.9     1.1   \n",
      "1  2021-10-25 00:02 -1.3  0.0  0.0   0.0   0.0  24.8  94.4  1.1     1.6   \n",
      "2  2021-10-25 00:03 -1.3  0.0  0.0   0.0   0.0  24.8  94.4  1.2     1.4   \n",
      "3  2021-10-25 00:04 -1.2  0.0  0.0   0.0   0.0  24.8  94.3  1.2     1.6   \n",
      "4  2021-10-25 00:05 -1.2  0.0  0.0   0.0   0.0  24.8  94.0  1.3     1.6   \n",
      "\n",
      "   WSstdev     WD  WDstdev   BP  Cleaning  Precipitation  TModA  TModB  \\\n",
      "0      0.4  227.6      1.1  977         0            0.0   24.7   24.4   \n",
      "1      0.4  229.3      0.7  977         0            0.0   24.7   24.4   \n",
      "2      0.3  228.5      2.9  977         0            0.0   24.7   24.4   \n",
      "3      0.3  229.1      4.6  977         0            0.0   24.7   24.4   \n",
      "4      0.4  227.5      1.6  977         0            0.0   24.7   24.4   \n",
      "\n",
      "   Comments  \n",
      "0       NaN  \n",
      "1       NaN  \n",
      "2       NaN  \n",
      "3       NaN  \n",
      "4       NaN  \n"
     ]
    }
   ],
   "source": [
    "\n",
    "# Create plots directory if it doesn't exist\n",
    "if not os.path.exists('plots'):\n",
    "    os.makedirs('plots')\n",
    "\n",
    "# Load Sierra Leone dataset\n",
    "df = pd.read_csv('data/togo-dapaong_qc.csv')\n",
    "print(\"First few rows of the Togo dataset:\")\n",
    "print(df.head())"
   ]
  },
  {
   "cell_type": "code",
   "execution_count": 14,
   "id": "f7ba2346",
   "metadata": {},
   "outputs": [
    {
     "name": "stdout",
     "output_type": "stream",
     "text": [
      "\n",
      "Summary Statistics:\n",
      "                 GHI            DNI            DHI           ModA  \\\n",
      "count  525600.000000  525600.000000  525600.000000  525600.000000   \n",
      "mean      230.555040     151.258469     116.444352     226.144375   \n",
      "std       322.532347     250.956962     156.520714     317.346938   \n",
      "min       -12.700000       0.000000       0.000000       0.000000   \n",
      "25%        -2.200000       0.000000       0.000000       0.000000   \n",
      "50%         2.100000       0.000000       2.500000       4.400000   \n",
      "75%       442.400000     246.400000     215.700000     422.525000   \n",
      "max      1424.000000    1004.500000     805.700000    1380.000000   \n",
      "\n",
      "                ModB           Tamb             RH             WS  \\\n",
      "count  525600.000000  525600.000000  525600.000000  525600.000000   \n",
      "mean      219.568588      27.751788      55.013160       2.368093   \n",
      "std       307.932510       4.758023      28.778732       1.462668   \n",
      "min         0.000000      14.900000       3.300000       0.000000   \n",
      "25%         0.000000      24.200000      26.500000       1.400000   \n",
      "50%         4.300000      27.200000      59.300000       2.200000   \n",
      "75%       411.000000      31.100000      80.800000       3.200000   \n",
      "max      1367.000000      41.400000      99.800000      16.100000   \n",
      "\n",
      "              WSgust        WSstdev             WD        WDstdev  \\\n",
      "count  525600.000000  525600.000000  525600.000000  525600.000000   \n",
      "mean        3.229490       0.557740     161.741845      10.559568   \n",
      "std         1.882565       0.268923      91.877217       5.915490   \n",
      "min         0.000000       0.000000       0.000000       0.000000   \n",
      "25%         1.900000       0.400000      74.800000       6.900000   \n",
      "50%         2.900000       0.500000     199.100000      10.800000   \n",
      "75%         4.400000       0.700000     233.500000      14.100000   \n",
      "max        23.100000       4.700000     360.000000      86.900000   \n",
      "\n",
      "                  BP       Cleaning  Precipitation          TModA  \\\n",
      "count  525600.000000  525600.000000  525600.000000  525600.000000   \n",
      "mean      975.915242       0.000535       0.001382      32.444403   \n",
      "std         2.153977       0.023116       0.026350      10.998334   \n",
      "min       968.000000       0.000000       0.000000      13.100000   \n",
      "25%       975.000000       0.000000       0.000000      23.900000   \n",
      "50%       976.000000       0.000000       0.000000      28.400000   \n",
      "75%       977.000000       0.000000       0.000000      40.600000   \n",
      "max       983.000000       1.000000       2.300000      70.400000   \n",
      "\n",
      "               TModB  Comments  \n",
      "count  525600.000000       0.0  \n",
      "mean       33.543330       NaN  \n",
      "std        12.769277       NaN  \n",
      "min        13.100000       NaN  \n",
      "25%        23.600000       NaN  \n",
      "50%        28.400000       NaN  \n",
      "75%        43.000000       NaN  \n",
      "max        94.600000       NaN  \n",
      "\n",
      "Missing Values:\n",
      "Timestamp             0\n",
      "GHI                   0\n",
      "DNI                   0\n",
      "DHI                   0\n",
      "ModA                  0\n",
      "ModB                  0\n",
      "Tamb                  0\n",
      "RH                    0\n",
      "WS                    0\n",
      "WSgust                0\n",
      "WSstdev               0\n",
      "WD                    0\n",
      "WDstdev               0\n",
      "BP                    0\n",
      "Cleaning              0\n",
      "Precipitation         0\n",
      "TModA                 0\n",
      "TModB                 0\n",
      "Comments         525600\n",
      "dtype: int64\n",
      "\n",
      "Columns with >5% Missing:\n",
      "Comments    525600\n",
      "dtype: int64\n"
     ]
    }
   ],
   "source": [
    "\n",
    "# Summary statistics\n",
    "print(\"\\nSummary Statistics:\")\n",
    "print(df.describe())\n",
    "\n",
    "# Missing values report\n",
    "print(\"\\nMissing Values:\")\n",
    "missing = df.isna().sum()\n",
    "print(missing)\n",
    "threshold = len(df) * 0.05\n",
    "print(\"\\nColumns with >5% Missing:\")\n",
    "print(missing[missing > threshold])"
   ]
  },
  {
   "cell_type": "code",
   "execution_count": 15,
   "id": "287430f7",
   "metadata": {},
   "outputs": [
    {
     "name": "stdout",
     "output_type": "stream",
     "text": [
      "\n",
      "Number of rows with outliers: 9251\n"
     ]
    },
    {
     "name": "stderr",
     "output_type": "stream",
     "text": [
      "C:\\Users\\jakin\\AppData\\Local\\Temp\\ipykernel_19108\\3297284573.py:7: FutureWarning: A value is trying to be set on a copy of a DataFrame or Series through chained assignment using an inplace method.\n",
      "The behavior will change in pandas 3.0. This inplace method will never work because the intermediate object on which we are setting values always behaves as a copy.\n",
      "\n",
      "For example, when doing 'df[col].method(value, inplace=True)', try using 'df.method({col: value}, inplace=True)' or df[col] = df[col].method(value) instead, to perform the operation inplace on the original object.\n",
      "\n",
      "\n",
      "  df[col].fillna(df[col].median(), inplace=True)\n",
      "C:\\Users\\jakin\\AppData\\Local\\Temp\\ipykernel_19108\\3297284573.py:7: FutureWarning: A value is trying to be set on a copy of a DataFrame or Series through chained assignment using an inplace method.\n",
      "The behavior will change in pandas 3.0. This inplace method will never work because the intermediate object on which we are setting values always behaves as a copy.\n",
      "\n",
      "For example, when doing 'df[col].method(value, inplace=True)', try using 'df.method({col: value}, inplace=True)' or df[col] = df[col].method(value) instead, to perform the operation inplace on the original object.\n",
      "\n",
      "\n",
      "  df[col].fillna(df[col].median(), inplace=True)\n",
      "C:\\Users\\jakin\\AppData\\Local\\Temp\\ipykernel_19108\\3297284573.py:7: FutureWarning: A value is trying to be set on a copy of a DataFrame or Series through chained assignment using an inplace method.\n",
      "The behavior will change in pandas 3.0. This inplace method will never work because the intermediate object on which we are setting values always behaves as a copy.\n",
      "\n",
      "For example, when doing 'df[col].method(value, inplace=True)', try using 'df.method({col: value}, inplace=True)' or df[col] = df[col].method(value) instead, to perform the operation inplace on the original object.\n",
      "\n",
      "\n",
      "  df[col].fillna(df[col].median(), inplace=True)\n",
      "C:\\Users\\jakin\\AppData\\Local\\Temp\\ipykernel_19108\\3297284573.py:7: FutureWarning: A value is trying to be set on a copy of a DataFrame or Series through chained assignment using an inplace method.\n",
      "The behavior will change in pandas 3.0. This inplace method will never work because the intermediate object on which we are setting values always behaves as a copy.\n",
      "\n",
      "For example, when doing 'df[col].method(value, inplace=True)', try using 'df.method({col: value}, inplace=True)' or df[col] = df[col].method(value) instead, to perform the operation inplace on the original object.\n",
      "\n",
      "\n",
      "  df[col].fillna(df[col].median(), inplace=True)\n",
      "C:\\Users\\jakin\\AppData\\Local\\Temp\\ipykernel_19108\\3297284573.py:7: FutureWarning: A value is trying to be set on a copy of a DataFrame or Series through chained assignment using an inplace method.\n",
      "The behavior will change in pandas 3.0. This inplace method will never work because the intermediate object on which we are setting values always behaves as a copy.\n",
      "\n",
      "For example, when doing 'df[col].method(value, inplace=True)', try using 'df.method({col: value}, inplace=True)' or df[col] = df[col].method(value) instead, to perform the operation inplace on the original object.\n",
      "\n",
      "\n",
      "  df[col].fillna(df[col].median(), inplace=True)\n",
      "C:\\Users\\jakin\\AppData\\Local\\Temp\\ipykernel_19108\\3297284573.py:7: FutureWarning: A value is trying to be set on a copy of a DataFrame or Series through chained assignment using an inplace method.\n",
      "The behavior will change in pandas 3.0. This inplace method will never work because the intermediate object on which we are setting values always behaves as a copy.\n",
      "\n",
      "For example, when doing 'df[col].method(value, inplace=True)', try using 'df.method({col: value}, inplace=True)' or df[col] = df[col].method(value) instead, to perform the operation inplace on the original object.\n",
      "\n",
      "\n",
      "  df[col].fillna(df[col].median(), inplace=True)\n",
      "C:\\Users\\jakin\\AppData\\Local\\Temp\\ipykernel_19108\\3297284573.py:7: FutureWarning: A value is trying to be set on a copy of a DataFrame or Series through chained assignment using an inplace method.\n",
      "The behavior will change in pandas 3.0. This inplace method will never work because the intermediate object on which we are setting values always behaves as a copy.\n",
      "\n",
      "For example, when doing 'df[col].method(value, inplace=True)', try using 'df.method({col: value}, inplace=True)' or df[col] = df[col].method(value) instead, to perform the operation inplace on the original object.\n",
      "\n",
      "\n",
      "  df[col].fillna(df[col].median(), inplace=True)\n"
     ]
    },
    {
     "name": "stdout",
     "output_type": "stream",
     "text": [
      "Cleaned data saved to data/togo_clean.csv\n"
     ]
    }
   ],
   "source": [
    "\n",
    "# Outlier detection and cleaning\n",
    "key_columns = ['GHI', 'DNI', 'DHI', 'ModA', 'ModB', 'WS', 'WSgust']\n",
    "df_zscores = df[key_columns].apply(zscore, nan_policy='omit')\n",
    "outliers = (df_zscores.abs() > 3).any(axis=1)\n",
    "print(f\"\\nNumber of rows with outliers: {outliers.sum()}\")\n",
    "for col in key_columns:\n",
    "    df[col].fillna(df[col].median(), inplace=True)\n",
    "df.dropna(subset=['Timestamp'], inplace=True)\n",
    "df.to_csv('data/togo_clean.csv', index=False)\n",
    "print(\"Cleaned data saved to data/togo_clean.csv\")"
   ]
  },
  {
   "cell_type": "code",
   "execution_count": 16,
   "id": "70f1742e",
   "metadata": {},
   "outputs": [
    {
     "name": "stderr",
     "output_type": "stream",
     "text": [
      "C:\\Users\\jakin\\AppData\\Local\\Temp\\ipykernel_19108\\1175595944.py:12: UserWarning: Creating legend with loc=\"best\" can be slow with large amounts of data.\n",
      "  plt.tight_layout()\n"
     ]
    }
   ],
   "source": [
    "\n",
    "# Time series analysis\n",
    "df['Timestamp'] = pd.to_datetime(df['Timestamp'])\n",
    "plt.figure(figsize=(12, 8))\n",
    "plt.plot(df['Timestamp'], df['GHI'], label='GHI')\n",
    "plt.plot(df['Timestamp'], df['DNI'], label='DNI')\n",
    "plt.plot(df['Timestamp'], df['DHI'], label='DHI')\n",
    "plt.plot(df['Timestamp'], df['Tamb'], label='Tamb')\n",
    "plt.xlabel('Timestamp')\n",
    "plt.ylabel('Value')\n",
    "plt.title('Togo: Time Series of GHI, DNI, DHI, and Tamb')\n",
    "plt.legend()\n",
    "plt.tight_layout()\n",
    "plt.savefig('plots/Togo_ghi_dni_dhi_tamb_time_series.png')\n",
    "plt.close()"
   ]
  },
  {
   "cell_type": "code",
   "execution_count": 17,
   "id": "4bfe855d",
   "metadata": {},
   "outputs": [
    {
     "name": "stdout",
     "output_type": "stream",
     "text": [
      "\n",
      "Average ModA and ModB by Cleaning Flag:\n",
      "                ModA        ModB\n",
      "Cleaning                        \n",
      "0         225.979064  219.401351\n",
      "1         535.186477  532.211744\n"
     ]
    }
   ],
   "source": [
    "\n",
    "# Cleaning impact\n",
    "cleaning_impact = df.groupby('Cleaning')[['ModA', 'ModB']].mean()\n",
    "print(\"\\nAverage ModA and ModB by Cleaning Flag:\")\n",
    "print(cleaning_impact)\n",
    "cleaning_impact.plot(kind='bar', title='Togo: Average ModA and ModB Pre/Post Cleaning')\n",
    "plt.ylabel('Value')\n",
    "plt.savefig('plots/togo_cleaning_impact.png')\n",
    "plt.close()"
   ]
  },
  {
   "cell_type": "code",
   "execution_count": 18,
   "id": "421bee1b",
   "metadata": {},
   "outputs": [],
   "source": [
    "\n",
    "# Correlation heatmap\n",
    "corr_columns = ['GHI', 'DNI', 'DHI', 'TModA', 'TModB']\n",
    "corr_matrix = df[corr_columns].corr()\n",
    "plt.figure(figsize=(8, 6))\n",
    "sns.heatmap(corr_matrix, annot=True, cmap='coolwarm')\n",
    "plt.title('Togo: Correlation Heatmap')\n",
    "plt.savefig('plots/togo_correlation_heatmap.png')\n",
    "plt.close()"
   ]
  },
  {
   "cell_type": "code",
   "execution_count": 19,
   "id": "1871a71b",
   "metadata": {},
   "outputs": [],
   "source": [
    "\n",
    "# Scatter plot: WS vs GHI\n",
    "plt.figure(figsize=(8, 6))\n",
    "plt.scatter(df['WS'], df['GHI'], alpha=0.5)\n",
    "plt.xlabel('Wind Speed (m/s)')\n",
    "plt.ylabel('GHI (W/m^2)')\n",
    "plt.title('Togo: Wind Speed vs GHI')\n",
    "plt.savefig('plots/togo_ws_vs_ghi.png')\n",
    "plt.close()"
   ]
  },
  {
   "cell_type": "code",
   "execution_count": 20,
   "id": "c2297070",
   "metadata": {},
   "outputs": [],
   "source": [
    "\n",
    "# Wind analysis: GHI histogram\n",
    "plt.figure(figsize=(8, 6))\n",
    "plt.hist(df['GHI'], bins=30)\n",
    "plt.xlabel('GHI (W/m^2)')\n",
    "plt.ylabel('Frequency')\n",
    "plt.title('Togo: GHI Distribution')\n",
    "plt.savefig('plots/togo_ghi_histogram.png')\n",
    "plt.close()\n",
    "\n",
    "# Wind direction distribution\n",
    "wd_counts = df['WD'].value_counts().sort_index()\n",
    "plt.figure(figsize=(8, 6))\n",
    "plt.bar(wd_counts.index, wd_counts.values)\n",
    "plt.xlabel('Wind Direction (°N)')\n",
    "plt.ylabel('Count')\n",
    "plt.title('Togo: Wind Direction Distribution')\n",
    "plt.savefig('plots/togo_wind_direction.png')\n",
    "plt.close()"
   ]
  },
  {
   "cell_type": "code",
   "execution_count": 21,
   "id": "d245dcac",
   "metadata": {},
   "outputs": [],
   "source": [
    "\n",
    "# Temperature analysis: RH vs Tamb\n",
    "plt.figure(figsize=(8, 6))\n",
    "plt.scatter(df['RH'], df['Tamb'], alpha=0.5)\n",
    "plt.xlabel('Relative Humidity (%)')\n",
    "plt.ylabel('Ambient Temperature (°C)')\n",
    "plt.title('Togo: RH vs Tamb')\n",
    "plt.savefig('plots/togo_rh_vs_tamb.png')\n",
    "plt.close()"
   ]
  },
  {
   "cell_type": "code",
   "execution_count": 22,
   "id": "bb895a73",
   "metadata": {},
   "outputs": [
    {
     "name": "stdout",
     "output_type": "stream",
     "text": [
      "Togo EDA complete. Plots saved to plots/ directory.\n"
     ]
    }
   ],
   "source": [
    "\n",
    "# Bubble chart: GHI vs Tamb, bubble size = RH\n",
    "plt.figure(figsize=(10, 8))\n",
    "plt.scatter(df['Tamb'], df['GHI'], s=df['RH']*10, alpha=0.5)\n",
    "plt.xlabel('Ambient Temperature (°C)')\n",
    "plt.ylabel('GHI (W/m^2)')\n",
    "plt.title('Togo: GHI vs Tamb (Bubble Size: RH)')\n",
    "plt.savefig('plots/togo_bubble_ghi_tamb_rh.png')\n",
    "plt.close()\n",
    "\n",
    "print(\"Togo EDA complete. Plots saved to plots/ directory.\")"
   ]
  }
 ],
 "metadata": {
  "kernelspec": {
   "display_name": ".venv",
   "language": "python",
   "name": "python3"
  },
  "language_info": {
   "codemirror_mode": {
    "name": "ipython",
    "version": 3
   },
   "file_extension": ".py",
   "mimetype": "text/x-python",
   "name": "python",
   "nbconvert_exporter": "python",
   "pygments_lexer": "ipython3",
   "version": "3.13.0"
  }
 },
 "nbformat": 4,
 "nbformat_minor": 5
}
